{
 "cells": [
  {
   "cell_type": "markdown",
   "metadata": {
    "deletable": false,
    "id": "dXcFprnC11VT",
    "nbgrader": {
     "cell_type": "markdown",
     "checksum": "266a90d81a801a292cb4320ebb5e0a10",
     "grade": false,
     "grade_id": "cell-92811c40d645b187",
     "locked": false,
     "schema_version": 3,
     "solution": false,
     "task": false
    }
   },
   "source": [
    "# MTH793P - Coursework 10\n",
    "\n",
    "This is a template notebook for the computational exercises of Coursework 10 of the module MTH793P, Advanced machine learning. The goal of this coursework is to construct and test an autoencoder."
   ]
  },
  {
   "cell_type": "code",
   "execution_count": 1,
   "metadata": {
    "id": "-GyPuaKH11VX"
   },
   "outputs": [],
   "source": [
    "import torch\n",
    "import torch.nn as nn\n",
    "import numpy as np\n",
    "import matplotlib.pyplot as plt\n",
    "\n",
    "from sklearn.datasets import make_moons\n",
    "\n",
    "from numpy.testing import assert_almost_equal"
   ]
  },
  {
   "cell_type": "markdown",
   "metadata": {
    "deletable": false,
    "editable": false,
    "nbgrader": {
     "cell_type": "markdown",
     "checksum": "21e8b245d4c450f6308e35abf53c490f",
     "grade": false,
     "grade_id": "cell-b1fc7583701afdf5",
     "locked": true,
     "schema_version": 3,
     "solution": false,
     "task": false
    }
   },
   "source": [
    "## Linear Autoencoder\n",
    "\n",
    "Your first task is to implement a linear autoencoder, using the **nn.Module** class.<br>\n",
    "The **<font color='red'>LinearAE</font>** class consturction receives two values:\n",
    "* **<font color='red'>d_in</font>** - the input dimension.\n",
    "* **<font color='red'>d_enc</font>** - the dimension of the encoding.\n",
    "\n",
    "Each encoder should save two inner members:\n",
    "* **<font color='red'>self.encoder</font>** - an object of type **nn.Linear** implementing the encoding network.\n",
    "* **<font color='red'>self.decoder</font>** - an object of type **nn.Linear** implementing the decoding network.\n",
    "\n",
    "You only need to implement the follwing two functions:\n",
    "* **<font color='red'>init</font>** - creates the encoder/decoder networks, using the input variables **d_enc**.\n",
    "* **<font color='red'>forward</font>** - receives an input **x** and runs the entire encoder-decoder pipeline."
   ]
  },
  {
   "cell_type": "code",
   "execution_count": null,
   "metadata": {
    "deletable": false,
    "nbgrader": {
     "cell_type": "code",
     "checksum": "cf3fe262e9b33b596d120c148b25bebe",
     "grade": false,
     "grade_id": "cell-4a240be967c6ed63",
     "locked": false,
     "schema_version": 3,
     "solution": true,
     "task": false
    }
   },
   "outputs": [],
   "source": [
    "class LinearAE(nn.Module):\n",
    "    \n",
    "    def __init__(self, d_in, d_enc):\n",
    "        super().__init__()        \n",
    "        # YOUR CODE HERE\n",
    "        raise NotImplementedError()\n",
    "    \n",
    "    def forward(self, x):\n",
    "        # YOUR CODE HERE\n",
    "        raise NotImplementedError()"
   ]
  },
  {
   "cell_type": "markdown",
   "metadata": {
    "deletable": false,
    "editable": false,
    "nbgrader": {
     "cell_type": "markdown",
     "checksum": "75d1a3eb555224d892351ac41e31f44f",
     "grade": false,
     "grade_id": "cell-0d261181315ef823",
     "locked": true,
     "schema_version": 3,
     "solution": false,
     "task": false
    }
   },
   "source": [
    "Testing the **LinearAE** class."
   ]
  },
  {
   "cell_type": "code",
   "execution_count": null,
   "metadata": {
    "deletable": false,
    "editable": false,
    "nbgrader": {
     "cell_type": "code",
     "checksum": "73ac7b70a298d6d129ffc2cb16f0f058",
     "grade": true,
     "grade_id": "cell-462a533d1cf72d97",
     "locked": true,
     "points": 1,
     "schema_version": 3,
     "solution": false,
     "task": false
    }
   },
   "outputs": [],
   "source": [
    "### DO NOT REMOVE/EDIT THIS CELL ###\n",
    "\n",
    "D_IN = 5\n",
    "D_ENC = 3\n",
    "N = 3\n",
    "torch.manual_seed(33212)\n",
    "\n",
    "lae_test = LinearAE(D_IN, D_ENC)\n",
    "X_test = torch.randn(N, D_IN)\n",
    "\n",
    "X_LAE_test = lae_test(X_test).detach().numpy()\n",
    "Z_LAE_test = lae_test.encoder(X_test).detach().numpy()\n",
    "\n",
    "X_LAE_res = np.array([[ 0.2378644 ,  0.13356304,  0.7906413 , -0.6841603 , -0.03847817],\n",
    "       [ 0.374196  , -0.1332427 ,  0.6726663 , -0.7152647 ,  0.06374969],\n",
    "       [-0.18380031, -0.5474455 , -0.06897026, -0.6101693 ,  0.31365138]],\n",
    "      dtype=np.float32)\n",
    "\n",
    "Z_LAE_res = np.array([[ 0.32750833,  0.2569018 , -0.53554165],\n",
    "       [ 0.6989867 ,  0.2207886 , -0.36855307],\n",
    "       [ 0.43619305,  0.3196564 ,  0.9655678 ]], dtype=np.float32)\n",
    "\n",
    "assert_almost_equal(X_LAE_test, X_LAE_res)\n",
    "assert_almost_equal(Z_LAE_test, Z_LAE_res)"
   ]
  },
  {
   "cell_type": "markdown",
   "metadata": {
    "deletable": false,
    "editable": false,
    "nbgrader": {
     "cell_type": "markdown",
     "checksum": "407659a8c5d57115590474971e958f56",
     "grade": false,
     "grade_id": "cell-9a4d478e022564c1",
     "locked": true,
     "schema_version": 3,
     "solution": false,
     "task": false
    }
   },
   "source": [
    "## Network Autoencoder\n",
    "\n",
    "Next, we construct a NN-based autoencoder, using the following architecture: \n",
    "\n",
    "<br>\n",
    "\n",
    "<img src=\"nn.png\">\n",
    "\n",
    "<br>\n",
    "\n",
    "All layers are linear, but note the dimensions in each layer, as well as the activation function (ReLU/Tanh).\n",
    "\n",
    "You should implement this autoencoder also using the **nn.Module** class.<br>\n",
    "The **<font color='red'>NetworkAE</font>** class consturction receives four values:\n",
    "* **<font color='red'>d_in</font>** - the input dimension.\n",
    "* **<font color='red'>d_enc</font>** - the dimension of the encoding.\n",
    "* **<font color='red'>d_1</font>** - the dimension of the first (and third) intermediate level.\n",
    "* **<font color='red'>d_2</font>** - the dimension of the second intermediate level.\n",
    "\n",
    "Each encoder should save two inner objects:\n",
    "* **<font color='red'>self.encoder</font>** - an object of type **nn.Sequential** implementing the encoding network.\n",
    "* **<font color='red'>self.decoder</font>** - an object of type **nn.Sequential** implementing the decoding network."
   ]
  },
  {
   "cell_type": "code",
   "execution_count": null,
   "metadata": {
    "deletable": false,
    "id": "k_OrjQ-v11Vb",
    "nbgrader": {
     "cell_type": "code",
     "checksum": "12cb0fa7062af92152ed6c6e7546a304",
     "grade": false,
     "grade_id": "cell-fd07cafaaa4ba6ca",
     "locked": false,
     "schema_version": 3,
     "solution": true,
     "task": false
    },
    "outputId": "84937832-833c-47df-cc9e-4ae346ca7b4f"
   },
   "outputs": [],
   "source": [
    "class NetworkAE(nn.Module):\n",
    "    \n",
    "    def __init__(self, d_in, d_enc, d1, d2):\n",
    "        super().__init__()\n",
    "        # YOUR CODE HERE\n",
    "        raise NotImplementedError()\n",
    "\n",
    "    \n",
    "    def forward(self, x):\n",
    "        # YOUR CODE HERE\n",
    "        raise NotImplementedError()"
   ]
  },
  {
   "cell_type": "markdown",
   "metadata": {
    "deletable": false,
    "editable": false,
    "nbgrader": {
     "cell_type": "markdown",
     "checksum": "2f09e5a02f3c27daef05be619e1e2484",
     "grade": false,
     "grade_id": "cell-2ffac340de1bd22d",
     "locked": true,
     "schema_version": 3,
     "solution": false,
     "task": false
    }
   },
   "source": [
    "Testing the **NetworkAE** class."
   ]
  },
  {
   "cell_type": "code",
   "execution_count": null,
   "metadata": {
    "deletable": false,
    "editable": false,
    "nbgrader": {
     "cell_type": "code",
     "checksum": "7c86ee585b567e8b4291d6b6e6021c3b",
     "grade": true,
     "grade_id": "cell-d2841d3a3b6d2062",
     "locked": true,
     "points": 1,
     "schema_version": 3,
     "solution": false,
     "task": false
    }
   },
   "outputs": [],
   "source": [
    "### DO NOT REMOVE/EDIT THIS CELL ###\n",
    "\n",
    "D_IN = 5\n",
    "D_ENC = 3\n",
    "N = 3\n",
    "torch.manual_seed(33212)\n",
    "\n",
    "nae_test = NetworkAE(D_IN, D_ENC,7,20)\n",
    "X_test = torch.randn(N, D_IN)\n",
    "\n",
    "X_NAE_test = nae_test(X_test).detach().numpy()\n",
    "Z_NAE_test = nae_test.encoder(X_test).detach().numpy()\n",
    "\n",
    "X_NAE_res = np.array([[ 0.3069172 , -0.29208896,  0.25634414,  0.0986102 ,  0.2927823 ],\n",
    "       [ 0.30636162, -0.29153517,  0.25594667,  0.09943324,  0.29676694],\n",
    "       [ 0.3063833 , -0.29153153,  0.25566053,  0.09936552,  0.29455537]],\n",
    "      dtype=np.float32)\n",
    "\n",
    "Z_NAE_res = np.array([[-0.02729017, -0.3175651 , -0.30956164],\n",
    "       [ 0.02269755, -0.3002658 , -0.27022344],\n",
    "       [-0.01193353, -0.3035515 , -0.26694262]], dtype=np.float32)\n",
    "\n",
    "assert_almost_equal(X_NAE_test, X_NAE_res)\n",
    "assert_almost_equal(Z_NAE_test, Z_NAE_res)"
   ]
  },
  {
   "cell_type": "code",
   "execution_count": null,
   "metadata": {
    "deletable": false,
    "editable": false,
    "nbgrader": {
     "cell_type": "code",
     "checksum": "ad27d8098320f5bf4ab0a3c594f22230",
     "grade": true,
     "grade_id": "cell-85331297ea59b54d",
     "locked": true,
     "points": 1,
     "schema_version": 3,
     "solution": false,
     "task": false
    }
   },
   "outputs": [],
   "source": [
    "### DO NOT REMOVE/EDIT THIS CELL ###"
   ]
  },
  {
   "cell_type": "markdown",
   "metadata": {
    "deletable": false,
    "editable": false,
    "nbgrader": {
     "cell_type": "markdown",
     "checksum": "f0fd03e853632a3f5d57e96e178af530",
     "grade": false,
     "grade_id": "cell-98ed207a70f93875",
     "locked": true,
     "schema_version": 3,
     "solution": false,
     "task": false
    }
   },
   "source": [
    "## Training\n",
    "\n",
    "Next, you should implement the a function called **<font color='red'>train_nn</font>** that performs the training for a given network.\n",
    "\n",
    "The input parameters are:\n",
    "* **<font color='red'>NN</font>** - the neural network (**nn.Module**) to train.\n",
    "* **<font color='red'>X</font>** - the training data (**torch.Tensor**). <br> The dimensions of **X** are ($n\\times d_{\\mathrm{in}}$), where $n$ is the size of the training set, and $d_{\\mathrm{in}}$ is the dimension of the network input.\n",
    "* **<font color='red'>learning_rate</font>** - rate of gradient descent steps.\n",
    "* **<font color='red'>max_iter</font>** -  number of iterations to run.\n",
    "* **<font color='red'>print_iter</font>** - when to print status update.\n",
    "\n",
    "You should use **<font color='red'>torch.optim.SGD</font>** to implement a gradient descent algorithm (not stochastic gradient descent).<br> \n",
    "You shoud also use **<font color='red'>torch.nn.MSELoss</font>** to compute the MSE loss function.<br>\n",
    "Follow the same steps as we did in class."
   ]
  },
  {
   "cell_type": "code",
   "execution_count": null,
   "metadata": {
    "deletable": false,
    "nbgrader": {
     "cell_type": "code",
     "checksum": "fe1a61178cf4a82775774cc627d2da11",
     "grade": false,
     "grade_id": "cell-956875cc4260c70d",
     "locked": false,
     "schema_version": 3,
     "solution": true,
     "task": false
    }
   },
   "outputs": [],
   "source": [
    "def train_nn(NN, X, learning_rate, max_iter, print_iter):\n",
    "    # YOUR CODE HERE\n",
    "    raise NotImplementedError()"
   ]
  },
  {
   "cell_type": "markdown",
   "metadata": {},
   "source": [
    "Testing the **train_nn**."
   ]
  },
  {
   "cell_type": "code",
   "execution_count": null,
   "metadata": {
    "deletable": false,
    "editable": false,
    "nbgrader": {
     "cell_type": "code",
     "checksum": "ad83662b17b58f5faf0423cbd2b32d24",
     "grade": true,
     "grade_id": "cell-551c9f2a1cd43450",
     "locked": true,
     "points": 1,
     "schema_version": 3,
     "solution": false,
     "task": false
    }
   },
   "outputs": [],
   "source": [
    "### DO NOT REMOVE/EDIT THIS CELL ###\n",
    "\n",
    "D_IN = 2\n",
    "D_ENC = 9\n",
    "N = 100\n",
    "\n",
    "torch.manual_seed(665343)\n",
    "\n",
    "nae_test = NetworkAE(D_IN,D_ENC,5,45)\n",
    "X_test = torch.randn(N,D_IN)\n",
    "train_nn(nae_test, X_test, 1e-4, 100, 1000)\n",
    "\n",
    "XR_test = nae_test(X_test[0:5,:]).detach().numpy()\n",
    "\n",
    "XR_res = np.array([[0.04490244, 0.12759131],\n",
    "       [0.04513232, 0.12740484],\n",
    "       [0.04479881, 0.12767544],\n",
    "       [0.04458874, 0.1278461 ],\n",
    "       [0.04493388, 0.12756582]], dtype=np.float32)\n",
    "\n",
    "assert_almost_equal(XR_res, XR_test)"
   ]
  },
  {
   "cell_type": "markdown",
   "metadata": {
    "deletable": false,
    "editable": false,
    "nbgrader": {
     "cell_type": "markdown",
     "checksum": "e58d072cdc522d50292d8eaa12fff3ab",
     "grade": false,
     "grade_id": "cell-8df701db9c915efe",
     "locked": true,
     "schema_version": 3,
     "solution": false,
     "task": false
    }
   },
   "source": [
    "## Testing the Autoencoders\n",
    "\n",
    "To test these encoders, we will use the two-moon dataset (from Coursework #2).<br>\n",
    "We start by generating a sample. <br>\n",
    "For the most part, we will care only about the points and not about the labels."
   ]
  },
  {
   "cell_type": "code",
   "execution_count": 3,
   "metadata": {
    "deletable": false,
    "editable": false,
    "nbgrader": {
     "cell_type": "code",
     "checksum": "b4c75757f404d911da8e9bef0bacb5d2",
     "grade": false,
     "grade_id": "cell-8154ccf7fa06e8ca",
     "locked": true,
     "schema_version": 3,
     "solution": false,
     "task": false
    }
   },
   "outputs": [
    {
     "data": {
      "image/png": "[encoded data removed]",
      "text/plain": [
       "<Figure size 640x480 with 1 Axes>"
      ]
     },
     "metadata": {},
     "output_type": "display_data"
    }
   ],
   "source": [
    "SEED = 2617\n",
    "N = 500\n",
    "SIG = 0.1\n",
    "X, _ = make_moons(n_samples=N, noise=SIG, random_state=SEED)\n",
    "plt.scatter(X[:,0],X[:,1])\n",
    "plt.axis('equal');"
   ]
  },
  {
   "cell_type": "markdown",
   "metadata": {
    "deletable": false,
    "editable": false,
    "nbgrader": {
     "cell_type": "markdown",
     "checksum": "ba3b375f6f01762adf06287ef1aa770f",
     "grade": false,
     "grade_id": "cell-0c81aa3f46259194",
     "locked": true,
     "schema_version": 3,
     "solution": false,
     "task": false
    }
   },
   "source": [
    "We convert **X** from a numpy.array into a torch.tensor called **<font color='red'>XT</font>**, in order to train the autoencoders."
   ]
  },
  {
   "cell_type": "code",
   "execution_count": null,
   "metadata": {
    "deletable": false,
    "editable": false,
    "nbgrader": {
     "cell_type": "code",
     "checksum": "3ef9d2861b9d2f8e4045560df5365562",
     "grade": false,
     "grade_id": "cell-69adaf4142fe1aa7",
     "locked": true,
     "schema_version": 3,
     "solution": false,
     "task": false
    }
   },
   "outputs": [],
   "source": [
    "XT = torch.tensor(X, dtype=torch.float32)"
   ]
  },
  {
   "cell_type": "markdown",
   "metadata": {
    "deletable": false,
    "editable": false,
    "nbgrader": {
     "cell_type": "markdown",
     "checksum": "0ce0a00bfb6dbe955f19c7e34396ffd4",
     "grade": false,
     "grade_id": "cell-a0dc7fcb42e9eb5b",
     "locked": true,
     "schema_version": 3,
     "solution": false,
     "task": false
    }
   },
   "source": [
    "Note that our data is **2-dimensional**. Our goal then, is to find a good **1-dimensional** representation.<br>\n",
    "\n",
    "\n",
    "#### Step 1:\n",
    "\n",
    "1. Create a linear autoencoder named **<font color='red'>linenc</font>** to find the best linear 1-dimensional encoding.\n",
    "2. Train this autoencoder (using **train_nn**), on the given data set (**XT**), using the following parameter values:\n",
    "* **<font color='red'>learning_rate</font>** = $5\\cdot 10^{-4}$\n",
    "* **<font color='red'>max_iter</font>** = $1,000$\n",
    "3. Use the trained network to compute the reconstruction of **XT** from its lower dimensionl encoding (i.e. compute Dec(Enc(XT))).<br>\n",
    "Convert the result to **numpy.array** (using **detach().numpy()**) and store the result in **<font color='red'>X_LIN</font>**."
   ]
  },
  {
   "cell_type": "code",
   "execution_count": null,
   "metadata": {
    "deletable": false,
    "nbgrader": {
     "cell_type": "code",
     "checksum": "211e8254c96ae6b3b8d7bfd19b8ef9d2",
     "grade": false,
     "grade_id": "cell-3b3adf213fe17332",
     "locked": false,
     "schema_version": 3,
     "solution": true,
     "task": false
    }
   },
   "outputs": [],
   "source": [
    "# YOUR CODE HERE\n",
    "raise NotImplementedError()"
   ]
  },
  {
   "cell_type": "markdown",
   "metadata": {
    "deletable": false,
    "editable": false,
    "nbgrader": {
     "cell_type": "markdown",
     "checksum": "088bd213ec4562578e878f1385192e8c",
     "grade": false,
     "grade_id": "cell-0ad11efaf811bc47",
     "locked": true,
     "schema_version": 3,
     "solution": false,
     "task": false
    }
   },
   "source": [
    "#### Step 2:\n",
    "\n",
    "1. Create a neural-network autoencoder named **<font color='red'>netenc</font>** to find the best linear 1-dimensional encoding.<br>\n",
    "The intermediate layer sizes should be $d_1 = 10$ and $d_2 = 25$.<br>\n",
    "\n",
    "2. Train this autoencoder (using **train_nn**), on the given data set (**XT**), using the following parameter values:\n",
    "* **<font color='red'>learning_rate</font>** = $5\\cdot 10^{-4}$\n",
    "* **<font color='red'>max_iter</font>** = $10,000$\n",
    "\n",
    "3. Use the trained network to compute the reconstruction of **XT** from its lower dimensionl encoding (i.e. compute Dec(Enc(XT))).<br>\n",
    "Convert the result to **numpy.array** (using **detach().numpy()**) and store the result in **<font color='red'>X_NET</font>**."
   ]
  },
  {
   "cell_type": "code",
   "execution_count": null,
   "metadata": {
    "deletable": false,
    "nbgrader": {
     "cell_type": "code",
     "checksum": "2890fe9ec0f0fa497b6947671f3002cb",
     "grade": false,
     "grade_id": "cell-db8f6e7fc397c80d",
     "locked": false,
     "schema_version": 3,
     "solution": true,
     "task": false
    }
   },
   "outputs": [],
   "source": [
    "# YOUR CODE HERE\n",
    "raise NotImplementedError()"
   ]
  },
  {
   "cell_type": "markdown",
   "metadata": {
    "deletable": false,
    "editable": false,
    "nbgrader": {
     "cell_type": "markdown",
     "checksum": "7bbe12e3854a4684fee7685491dd240a",
     "grade": false,
     "grade_id": "cell-58833ded77de2ae1",
     "locked": true,
     "schema_version": 3,
     "solution": false,
     "task": false
    }
   },
   "source": [
    "Finally, as a comparison to both methods, we will perform dimension reduction and reconstruction using PCA.<br>\n",
    "No instructions here, just remember to center the data before PCA, and fix the mean after.<br>\n",
    "Place the result in **<font color='red'>X_PCA</font>** (should also be **numpy.array**)\n",
    "\n",
    "**<font color='red'>NOTE:</font>** The matrix **X** we defined above is $N\\times D$, while for PCA we usually use $D\\times N$ matrices."
   ]
  },
  {
   "cell_type": "code",
   "execution_count": null,
   "metadata": {
    "deletable": false,
    "nbgrader": {
     "cell_type": "code",
     "checksum": "f7252340f1f022a82bb00337c2a3cf2e",
     "grade": false,
     "grade_id": "cell-e014ce52baa70913",
     "locked": false,
     "schema_version": 3,
     "solution": true,
     "task": false
    }
   },
   "outputs": [],
   "source": [
    "# YOUR CODE HERE\n",
    "raise NotImplementedError()"
   ]
  },
  {
   "cell_type": "markdown",
   "metadata": {
    "deletable": false,
    "editable": false,
    "nbgrader": {
     "cell_type": "markdown",
     "checksum": "eb73d3382c68a65e6ca5a960b2905dd1",
     "grade": false,
     "grade_id": "cell-8097480391a00900",
     "locked": true,
     "schema_version": 3,
     "solution": false,
     "task": false
    }
   },
   "source": [
    "We plot the results of all three reconstructions (**<font color='blue'>blue points</font>** - original data, **<font color='orange'>orange points</font>**  - reconstruction).\n",
    "\n",
    "**<font color='blue'>Q:</font>** How do these methods compare?"
   ]
  },
  {
   "cell_type": "code",
   "execution_count": null,
   "metadata": {
    "deletable": false,
    "editable": false,
    "nbgrader": {
     "cell_type": "code",
     "checksum": "21e8cb7f0b7d4156e24d4faf5d18a8f0",
     "grade": false,
     "grade_id": "cell-ecce8a4f1e9517cd",
     "locked": true,
     "schema_version": 3,
     "solution": false,
     "task": false
    }
   },
   "outputs": [],
   "source": [
    "plt.figure(figsize=(18,4))\n",
    "\n",
    "plt.subplot(1,3,1)\n",
    "plt.scatter(X[:,0], X[:,1])\n",
    "plt.scatter(X_PCA[:,0], X_PCA[:,1])\n",
    "plt.axis('equal');\n",
    "\n",
    "plt.subplot(1,3,2)\n",
    "plt.scatter(X[:,0], X[:,1])\n",
    "plt.scatter(X_LIN[:,0], X_LIN[:,1])\n",
    "plt.axis('equal');\n",
    "\n",
    "plt.subplot(1,3,3)\n",
    "plt.scatter(X[:,0], X[:,1])\n",
    "plt.scatter(X_NET[:,0], X_NET[:,1])\n",
    "plt.axis('equal');"
   ]
  },
  {
   "cell_type": "markdown",
   "metadata": {
    "deletable": false,
    "nbgrader": {
     "cell_type": "markdown",
     "checksum": "67f43942ff4e41c188222ddbf3f7f024",
     "grade": false,
     "grade_id": "cell-570fd07594c350fe",
     "locked": true,
     "schema_version": 3,
     "solution": false,
     "task": false
    }
   },
   "source": [
    "Now that we have neural-network autoencoder trained (**netenc**), we would like to test it performance on **new** data.\n",
    "\n",
    "We first generate a new dataset (from the same two-moons distribution)."
   ]
  },
  {
   "cell_type": "code",
   "execution_count": null,
   "metadata": {
    "deletable": false,
    "editable": false,
    "nbgrader": {
     "cell_type": "code",
     "checksum": "c2efce612e74b1ee69796e975e6cc0d5",
     "grade": false,
     "grade_id": "cell-7e7c15b16fd5c56c",
     "locked": true,
     "schema_version": 3,
     "solution": false,
     "task": false
    }
   },
   "outputs": [],
   "source": [
    "SEED = 9987\n",
    "N = 100\n",
    "X_new, L_new = make_moons(n_samples=N, noise=SIG, random_state=SEED)"
   ]
  },
  {
   "cell_type": "markdown",
   "metadata": {
    "deletable": false,
    "editable": false,
    "nbgrader": {
     "cell_type": "markdown",
     "checksum": "83d6628408ddd370047bd3644eac1b80",
     "grade": false,
     "grade_id": "cell-01a66ea50d8a3389",
     "locked": true,
     "schema_version": 3,
     "solution": false,
     "task": false
    }
   },
   "source": [
    "Take the data points in **X_new** and apply to them the following:\n",
    "1. The entire encoder-decoder pipeline (using **netenc**). <br>\n",
    "Convert the result to **numpy.array**, and store it in **<font color='red'>XR_new</font>**.\n",
    "\n",
    "1. Only the encoder part (using **netenc.encoder**). <br>\n",
    "Convert the result to **numpy.array**, and store it in **<font color='red'>XE_new</font>**."
   ]
  },
  {
   "cell_type": "code",
   "execution_count": null,
   "metadata": {
    "deletable": false,
    "nbgrader": {
     "cell_type": "code",
     "checksum": "9cc655cccff201d837b1c7a28f308cd3",
     "grade": false,
     "grade_id": "cell-1ea189e2c384c4bb",
     "locked": false,
     "schema_version": 3,
     "solution": true,
     "task": false
    }
   },
   "outputs": [],
   "source": [
    "# YOUR CODE HERE\n",
    "raise NotImplementedError()"
   ]
  },
  {
   "cell_type": "markdown",
   "metadata": {
    "deletable": false,
    "editable": false,
    "nbgrader": {
     "cell_type": "markdown",
     "checksum": "0ac5a5854a925a82eb73b8ee5c1a9a36",
     "grade": false,
     "grade_id": "cell-9a34faad7d3671dc",
     "locked": true,
     "schema_version": 3,
     "solution": false,
     "task": false
    }
   },
   "source": [
    "We plot the results.\n",
    "\n",
    "**Left:** The new data points and their reconstruction.\n",
    "\n",
    "**Right:** The lower dimensional (d=1) representation. We slighly shift the y-values so it will be easier to see all points. The points are colored here according to the cluster (moon) they belong to in the original sample."
   ]
  },
  {
   "cell_type": "code",
   "execution_count": null,
   "metadata": {
    "deletable": false,
    "editable": false,
    "nbgrader": {
     "cell_type": "code",
     "checksum": "6605135e3932c65f5d1d41416e6ea841",
     "grade": false,
     "grade_id": "cell-0d0860a34f51c064",
     "locked": true,
     "schema_version": 3,
     "solution": false,
     "task": false
    }
   },
   "outputs": [],
   "source": [
    "plt.figure(figsize=(15,5))\n",
    "\n",
    "plt.subplot(1,2,1)\n",
    "plt.scatter(X_new[:,0],X_new[:,1])\n",
    "plt.scatter(XR_new[:,0],XR_new[:,1])\n",
    "plt.axis('equal');\n",
    "\n",
    "plt.subplot(1,2,2)\n",
    "plt.scatter(XE_new,2*L_new, c =L_new)\n",
    "plt.axis('equal');"
   ]
  },
  {
   "cell_type": "markdown",
   "metadata": {
    "deletable": false,
    "editable": false,
    "nbgrader": {
     "cell_type": "markdown",
     "checksum": "485edcac6e7cf831cb15509af78e51b8",
     "grade": false,
     "grade_id": "cell-951d56f6a503d349",
     "locked": true,
     "schema_version": 3,
     "solution": false,
     "task": false
    }
   },
   "source": [
    "The last thing we want to do, is to generate new points by sampling the latent (encoded) space.<br>\n",
    "Use **torch.linspace**, to generate **<font color='red'>1,000</font>** real values between **<font color='red'>-20</font>** and **<font color='red'>+20</font>**. Then use **<font color='red'>netenc.decoder</font>** to try to decode these values. <br> Place the result into **<font color='red'>XR_gen</font>**.\n",
    "\n",
    "**<font color='red'>NOTE:</font>** The function **torch.linspace** will return 1D vector of length 1000. <br>In order to send it to the decoder, you first need to covert it into a 2D matrix (tensor) of dimension 1000x1.<br>\n",
    "If **v** is a vector (tensor), a simple way to conver it to a matrix is by using:\n",
    "**<font color='blue'>v[:, None]</font>**."
   ]
  },
  {
   "cell_type": "code",
   "execution_count": null,
   "metadata": {
    "deletable": false,
    "nbgrader": {
     "cell_type": "code",
     "checksum": "fa89ae63f0e83b3edd5fb7136df8e1e1",
     "grade": false,
     "grade_id": "cell-e99a93630a9592e3",
     "locked": false,
     "schema_version": 3,
     "solution": true,
     "task": false
    }
   },
   "outputs": [],
   "source": [
    "# YOUR CODE HERE\n",
    "raise NotImplementedError()"
   ]
  },
  {
   "cell_type": "markdown",
   "metadata": {
    "deletable": false,
    "editable": false,
    "nbgrader": {
     "cell_type": "markdown",
     "checksum": "89155d6b6919782cfae815d8860b212e",
     "grade": false,
     "grade_id": "cell-98865fa3394570e3",
     "locked": true,
     "schema_version": 3,
     "solution": false,
     "task": false
    }
   },
   "source": [
    "Finally, we plot the result.\n",
    "\n",
    "**<font color='blue'>Q:</font>** What can you make from the points plotted about the latent space?"
   ]
  },
  {
   "cell_type": "code",
   "execution_count": null,
   "metadata": {
    "deletable": false,
    "editable": false,
    "nbgrader": {
     "cell_type": "code",
     "checksum": "2b6b0558253681e8395e37bc27ed8b87",
     "grade": false,
     "grade_id": "cell-34666d44cfe26d36",
     "locked": true,
     "schema_version": 3,
     "solution": false,
     "task": false
    }
   },
   "outputs": [],
   "source": [
    "plt.scatter(XR_gen[:,0],XR_gen[:,1])\n",
    "plt.axis('equal');"
   ]
  },
  {
   "cell_type": "code",
   "execution_count": null,
   "metadata": {},
   "outputs": [],
   "source": []
  }
 ],
 "metadata": {
  "celltoolbar": "Edit Metadata",
  "colab": {
   "name": "autoencoder.ipynb",
   "provenance": []
  },
  "kernelspec": {
   "display_name": "Python 3 (ipykernel)",
   "language": "python",
   "name": "python3"
  },
  "language_info": {
   "codemirror_mode": {
    "name": "ipython",
    "version": 3
   },
   "file_extension": ".py",
   "mimetype": "text/x-python",
   "name": "python",
   "nbconvert_exporter": "python",
   "pygments_lexer": "ipython3",
   "version": "3.11.0"
  }
 },
 "nbformat": 4,
 "nbformat_minor": 1
}
