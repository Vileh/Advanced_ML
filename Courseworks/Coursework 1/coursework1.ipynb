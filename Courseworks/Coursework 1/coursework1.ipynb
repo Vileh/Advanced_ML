{
 "cells": [
  {
   "cell_type": "markdown",
   "metadata": {
    "nbgrader": {
     "grade": false,
     "grade_id": "cell-5b380f3ebea387f7",
     "locked": true,
     "schema_version": 3,
     "solution": false,
     "task": false
    }
   },
   "source": [
    "# MTH793P - Coursework 1\n",
    "\n",
    "This is a template notebook for the computational exercises of Coursework #1 of the module MTH793P, Advanced Machine Learning. "
   ]
  },
  {
   "cell_type": "code",
   "execution_count": 1,
   "metadata": {
    "nbgrader": {
     "grade": false,
     "grade_id": "cell-c2e04b8c88b5505b",
     "locked": true,
     "schema_version": 3,
     "solution": false,
     "task": false
    }
   },
   "outputs": [],
   "source": [
    "import numpy as np\n",
    "import matplotlib.pyplot as plt\n",
    "from scipy import sparse as sp\n",
    "from scipy.sparse import linalg\n",
    "from numpy.testing import assert_array_equal"
   ]
  },
  {
   "cell_type": "markdown",
   "metadata": {
    "nbgrader": {
     "grade": false,
     "grade_id": "cell-9afcf3de52856de8",
     "locked": true,
     "schema_version": 3,
     "solution": false,
     "task": false
    }
   },
   "source": [
    "Create two lists *nodes* and *edges* and one NumPy array *weights*. The list *nodes* should contain all names of the nodes in the graph of Coursework 1, Question 1, in alphabetical order. The list edges should include lists that contain the indices of the nodes that are connected by the individual edge. For example, the first edge connects node 'Batman' and node 'Jessica Jones', so the list for this edge should be [0, 3], as 'Batman' is the first entry of the list *nodes* and 'Jessica Jones' is the fourth entry.  The Numpy array *weights* should contain the individual weights assigned to each edge."
   ]
  },
  {
   "cell_type": "code",
   "execution_count": 2,
   "metadata": {
    "nbgrader": {
     "grade": false,
     "grade_id": "cell-1b50dfad57619207",
     "locked": false,
     "schema_version": 3,
     "solution": true,
     "task": false
    }
   },
   "outputs": [],
   "source": [
    "### YOUR CODE HERE\n",
    "nodes = [\"Batman\", \"Catwoman\", \"Deadpool\", \"Jessica Jones\", \"Spiderman\", \"Wonder woman\"]\n",
    "edges = [[0, 3], [0, 1], [0, 2], [0, 5], [2, 3], [3, 5], [3, 4], [1, 5], [1, 4], [2, 4], [4, 5]]\n",
    "weights = [4, 81, 16, 64, 64, 36, 49, 49, 1, 49, 1]"
   ]
  },
  {
   "cell_type": "markdown",
   "metadata": {
    "nbgrader": {
     "grade": false,
     "grade_id": "cell-57a87e1109f5c25b",
     "locked": true,
     "schema_version": 3,
     "solution": false,
     "task": false
    }
   },
   "source": [
    "Display your lists and array with the following cell."
   ]
  },
  {
   "cell_type": "code",
   "execution_count": 3,
   "metadata": {
    "nbgrader": {
     "grade": true,
     "grade_id": "cell-7aaa793b98db93ce",
     "locked": true,
     "points": 3,
     "schema_version": 3,
     "solution": false,
     "task": false
    }
   },
   "outputs": [
    {
     "name": "stdout",
     "output_type": "stream",
     "text": [
      "We consider a graph with nodes/vertices ['Batman', 'Catwoman', 'Deadpool', 'Jessica Jones', 'Spiderman', 'Wonder woman'], edges [[0, 3], [0, 1], [0, 2], [0, 5], [2, 3], [3, 5], [3, 4], [1, 5], [1, 4], [2, 4], [4, 5]] and weights [4, 81, 16, 64, 64, 36, 49, 49, 1, 49, 1].\n"
     ]
    }
   ],
   "source": [
    "print('We consider a graph with nodes/vertices {n}, edges {e} and weights {w}.'.format( \\\n",
    "                            n = nodes, e = edges, w = weights))"
   ]
  },
  {
   "cell_type": "markdown",
   "metadata": {
    "nbgrader": {
     "grade": false,
     "grade_id": "cell-bb7f5dfd0d423bb8",
     "locked": true,
     "schema_version": 3,
     "solution": false,
     "task": false
    }
   },
   "source": [
    "Write a function **construct_incidence_matrix** that takes the lists *nodes*, *edges* and the NumPy array *weights* as arguments. The function should return the incidence matrix *incidence_matrix* that corresponds to the weighted graph. The construction of the incidence matrix is described in the lecture notes."
   ]
  },
  {
   "cell_type": "code",
   "execution_count": 10,
   "metadata": {
    "nbgrader": {
     "grade": false,
     "grade_id": "cell-87385a31ebe6ae36",
     "locked": false,
     "schema_version": 3,
     "solution": true,
     "task": false
    }
   },
   "outputs": [],
   "source": [
    "def construct_incidence_matrix(nodes, edges, weights):\n",
    "    matrix = np.zeros((len(nodes), len(edges)))\n",
    "    for i in range(len(edges)):\n",
    "        matrix[edges[i][0], i] = -np.sqrt(weights[i])\n",
    "        matrix[edges[i][1], i] = np.sqrt(weights[i])\n",
    "    return matrix.T"
   ]
  },
  {
   "cell_type": "markdown",
   "metadata": {
    "nbgrader": {
     "grade": false,
     "grade_id": "cell-1f3ff816ea2158a9",
     "locked": true,
     "schema_version": 3,
     "solution": false,
     "task": false
    }
   },
   "source": [
    "You can test your function with the following cell."
   ]
  },
  {
   "cell_type": "code",
   "execution_count": 11,
   "metadata": {
    "nbgrader": {
     "grade": true,
     "grade_id": "cell-81c3933d937a234f",
     "locked": true,
     "points": 4,
     "schema_version": 3,
     "solution": false,
     "task": false
    }
   },
   "outputs": [
    {
     "name": "stdout",
     "output_type": "stream",
     "text": [
      "The incidence matrix of our graph is \n",
      " [[-2  0  0  2  0  0]\n",
      " [-9  9  0  0  0  0]\n",
      " [-4  0  4  0  0  0]\n",
      " [-8  0  0  0  0  8]\n",
      " [ 0  0 -8  8  0  0]\n",
      " [ 0  0  0 -6  0  6]\n",
      " [ 0  0  0 -7  7  0]\n",
      " [ 0 -7  0  0  0  7]\n",
      " [ 0 -1  0  0  1  0]\n",
      " [ 0  0 -7  0  7  0]\n",
      " [ 0  0  0  0 -1  1]].\n"
     ]
    }
   ],
   "source": [
    "incidence_matrix = construct_incidence_matrix(nodes, edges, weights)    \n",
    "print('The incidence matrix of our graph is \\n {i}.'.format(i = incidence_matrix.astype(int)))\n",
    "\n",
    "### TEST YOUR CODE HERE\n",
    "test_nodes = ['Batman', 'Catwoman', 'Spiderman']\n",
    "test_edges = [[0, 1], [1, 2]]\n",
    "test_weights = np.array([81, 1])\n",
    "test_incidence_matrix = construct_incidence_matrix(test_nodes, test_edges, test_weights)\n",
    "\n",
    "\n",
    "assert_array_equal(test_incidence_matrix.astype(int), np.array([[-9, 9, 0],[0, -1, 1]]))\n",
    "assert_array_equal(incidence_matrix.astype(int), np.array([[-2, 0, 0, 2, 0, 0],[-9, 9, 0, 0, 0, 0],[-4, 0, 4, 0, 0, 0],[-8, 0, 0, 0, 0, 8],[0, 0, -8, 8, 0, 0],[0, 0, 0, -6, 0, 6],[0, 0, 0, -7, 7, 0],[0, -7, 0, 0, 0, 7],[0, -1, 0, 0, 1, 0],[0, 0, -7, 0, 7, 0],[0, 0, 0, 0, -1, 1]]))\n"
   ]
  },
  {
   "cell_type": "markdown",
   "metadata": {
    "nbgrader": {
     "grade": false,
     "grade_id": "cell-41f51bb7dae6a31f",
     "locked": true,
     "schema_version": 3,
     "solution": false,
     "task": false
    }
   },
   "source": [
    "Next, compute the corresponding graph-Laplacian for the incidence matrix *incidence_matrix* from the previous exercise and store it in a variable named *graph_laplacian*. Follow the definition from the lecture notes."
   ]
  },
  {
   "cell_type": "code",
   "execution_count": 14,
   "metadata": {
    "nbgrader": {
     "grade": false,
     "grade_id": "cell-bbe113db448d0f54",
     "locked": false,
     "schema_version": 3,
     "solution": true,
     "task": false
    }
   },
   "outputs": [],
   "source": [
    "graph_laplacian = incidence_matrix.T @ incidence_matrix"
   ]
  },
  {
   "cell_type": "markdown",
   "metadata": {
    "nbgrader": {
     "grade": false,
     "grade_id": "cell-2cc1f7786a33222a",
     "locked": true,
     "schema_version": 3,
     "solution": false,
     "task": false
    }
   },
   "source": [
    "You can test your function with the following cell."
   ]
  },
  {
   "cell_type": "code",
   "execution_count": 15,
   "metadata": {
    "nbgrader": {
     "grade": true,
     "grade_id": "cell-e14e6d8159b7b419",
     "locked": true,
     "points": 3,
     "schema_version": 3,
     "solution": false,
     "task": false
    }
   },
   "outputs": [
    {
     "name": "stdout",
     "output_type": "stream",
     "text": [
      "The graph Laplacian of our graph is \n",
      " [[165 -81 -16  -4   0 -64]\n",
      " [-81 131   0   0  -1 -49]\n",
      " [-16   0 129 -64 -49   0]\n",
      " [ -4   0 -64 153 -49 -36]\n",
      " [  0  -1 -49 -49 100  -1]\n",
      " [-64 -49   0 -36  -1 150]].\n"
     ]
    }
   ],
   "source": [
    "### TEST YOUR CODE HERE\n",
    "assert_array_equal(graph_laplacian.astype(int), incidence_matrix.T @ incidence_matrix)\n",
    "test_graph_laplacian = test_incidence_matrix.T @ test_incidence_matrix\n",
    "assert_array_equal(test_graph_laplacian.astype(int), np.array([[81, -81, 0],[-81, 82, -1],[0, -1, 1]]))\n",
    "\n",
    "print('The graph Laplacian of our graph is \\n {g}.'.format(g = graph_laplacian.astype(int)))"
   ]
  },
  {
   "cell_type": "markdown",
   "metadata": {
    "nbgrader": {
     "grade": false,
     "grade_id": "cell-765dfcf3144be575",
     "locked": true,
     "schema_version": 3,
     "solution": false,
     "task": false
    }
   },
   "source": [
    "We want to use our graph to determine whether a node in the graph belongs to the class \"Marvel\" or the class \"DC\". Suppose we are in a semi-supervised setting, where the node \"Deadpool\" is already labelled $v_{\\text{Deadpool}} = 0$ (class \"Marvel\") and the node \"Catwoman\" is labelled as $v_{\\text{Catwoman}} = 1$ (class \"DC\"). Here $v$ is the mathematical notation of the label vector. We follow the instructions in the lecture notes and formulate this as a linear system. We can either define appropriate projection matrices or create sub-matrices from the graph-Laplacian by choosing the correct indices. How you set up the linear system is up to you. Store your linear system in a variable named *linear_system* and the right-hand-side in a variable *right_hand_side*."
   ]
  },
  {
   "cell_type": "code",
   "execution_count": 41,
   "metadata": {
    "nbgrader": {
     "grade": false,
     "grade_id": "cell-20979238f798da95",
     "locked": false,
     "schema_version": 3,
     "solution": true,
     "task": false
    }
   },
   "outputs": [
    {
     "name": "stdout",
     "output_type": "stream",
     "text": [
      "The linear system we need to solve is \n",
      " [[165  -4   0 -64]\n",
      " [ -4 153 -49 -36]\n",
      " [  0 -49 100  -1]\n",
      " [-64 -36  -1 150]] x = [81  0  1 49].\n"
     ]
    }
   ],
   "source": [
    "### YOUR CODE HERE\n",
    "def proj_matrix(r, s):\n",
    "    matrix = np.zeros((len(r), s))\n",
    "    for i in range(len(r)):\n",
    "        matrix[i, r[i]] = 1\n",
    "    return matrix\n",
    "\n",
    "r = [1, 2]\n",
    "r_T = [0, 3, 4, 5]\n",
    "P_R = proj_matrix(r, 6)\n",
    "P_R_T = proj_matrix(r_T, 6)\n",
    "y = np.array([1, 0]).T\n",
    "\n",
    "linear_system = P_R_T @ graph_laplacian @ P_R_T.T\n",
    "right_hand_side = -P_R_T @ graph_laplacian @ P_R.T @ y\n",
    "\n",
    "print('The linear system we need to solve is \\n {l} x = {r}.'.format(l = linear_system.astype(int), r = right_hand_side.astype(int)))"
   ]
  },
  {
   "cell_type": "markdown",
   "metadata": {
    "nbgrader": {
     "grade": false,
     "grade_id": "cell-3bccf75331c0be63",
     "locked": true,
     "schema_version": 3,
     "solution": false,
     "task": false
    }
   },
   "source": [
    "Solve your linear system and store your labels in an array named *remaining_labels*. Create also an array *all_labels* that contains all labels, as well as a boolean array *thresholded_labels* of the same size as *all_labels* with True or False values. An entry should be true if the corresponding entry in *all_labels* is larger than 0.5 and false otherwise."
   ]
  },
  {
   "cell_type": "code",
   "execution_count": 42,
   "metadata": {
    "nbgrader": {
     "grade": false,
     "grade_id": "cell-ae555d965960f117",
     "locked": false,
     "schema_version": 3,
     "solution": true,
     "task": false
    }
   },
   "outputs": [],
   "source": [
    "remaining_labels = np.linalg.solve(linear_system, right_hand_side)\n",
    "all_labels = np.zeros(6)\n",
    "all_labels[r_T] = remaining_labels\n",
    "all_labels[r] = y\n",
    "threshold_labels = np.where(all_labels > 0.5, 1, 0)"
   ]
  },
  {
   "cell_type": "markdown",
   "metadata": {
    "nbgrader": {
     "grade": false,
     "grade_id": "cell-eee18e5a8cb866a0",
     "locked": true,
     "schema_version": 3,
     "solution": false,
     "task": false
    }
   },
   "source": [
    "Check your results with the following cell."
   ]
  },
  {
   "cell_type": "code",
   "execution_count": 43,
   "metadata": {
    "nbgrader": {
     "grade": false,
     "grade_id": "cell-60b0665f44561963",
     "locked": true,
     "schema_version": 3,
     "solution": false,
     "task": false
    }
   },
   "outputs": [
    {
     "name": "stdout",
     "output_type": "stream",
     "text": [
      "The computed labels are [0.77273292 1.         0.         0.22924953 0.12945476 0.71224896]. Setting all values above 0.5 to one and the remaining ones to zero yields [1 1 0 0 0 1].\n"
     ]
    }
   ],
   "source": [
    "print('The computed labels are {a}. Setting all values above 0.5 to one and'.format(a=all_labels)\n",
    "      , 'the remaining ones to zero yields {t}.'.format(t=threshold_labels))"
   ]
  },
  {
   "cell_type": "markdown",
   "metadata": {
    "nbgrader": {
     "grade": false,
     "grade_id": "cell-7af5c71fb438ac6d",
     "locked": true,
     "schema_version": 3,
     "solution": false,
     "task": false
    }
   },
   "source": [
    "We conclude this coursework by computing the second eigenvector, i.e. the eigenvector that corresponds to the second smallest eigenvalue, of the graph-Laplacian *graph_laplacian*. Explore how to compute eigenvalues and eigenvectors, in particular of sparse matrices if you have used them."
   ]
  },
  {
   "cell_type": "code",
   "execution_count": 44,
   "metadata": {
    "nbgrader": {
     "grade": false,
     "grade_id": "cell-67ec5a28d4bc7ddc",
     "locked": false,
     "schema_version": 3,
     "solution": true,
     "task": false
    }
   },
   "outputs": [],
   "source": [
    "### YOUR CODE HERE\n",
    "eigenvalues, eigenvectors = np.linalg.eig(graph_laplacian)"
   ]
  },
  {
   "cell_type": "markdown",
   "metadata": {
    "nbgrader": {
     "grade": false,
     "grade_id": "cell-7dfcc8e6c5271d1f",
     "locked": true,
     "schema_version": 3,
     "solution": false,
     "task": false
    }
   },
   "source": [
    "Display the second smallest eigenvalue and the corresponding eigenvector. What do you observe?"
   ]
  },
  {
   "cell_type": "code",
   "execution_count": 45,
   "metadata": {
    "nbgrader": {
     "grade": true,
     "grade_id": "cell-fd9c7426dfff76d8",
     "locked": true,
     "points": 0,
     "schema_version": 3,
     "solution": false,
     "task": false
    }
   },
   "outputs": [
    {
     "name": "stdout",
     "output_type": "stream",
     "text": [
      "The second smallest eigenvalue of the graph Laplacian is 33.1637516607819. The corresponding eigenvector is [ 0.39722732  0.48514106 -0.39542065 -0.30661694 -0.50260786  0.32227706].T.\n",
      "If we set all entries of the second eigenvector that are larger than zero to one and the remaining ones to zero, we obtain [1 1 0 0 0 1].T. This yields the same classification as before, but without having to classify any labels in advance.\n"
     ]
    }
   ],
   "source": [
    "print('The second smallest eigenvalue of the graph Laplacian is {eval}.'.format(eval = \\\n",
    "        eigenvalues[1].real), 'The corresponding eigenvector is {evec}.T.'.format(evec = \\\n",
    "        eigenvectors[:, 1].T.real))\n",
    "\n",
    "print('If we set all entries of the second eigenvector that are larger than zero to', \\\n",
    "      'one and the remaining ones to zero, we obtain {t}.T.'.format(t = \\\n",
    "        (eigenvectors[:, 1] > 0).astype(int)), 'This yields the same classification' \\\n",
    "      ' as before, but without having to classify any labels in advance.')"
   ]
  }
 ],
 "metadata": {
  "celltoolbar": "Create Assignment",
  "kernelspec": {
   "display_name": "Python 3 (ipykernel)",
   "language": "python",
   "name": "python3"
  },
  "language_info": {
   "codemirror_mode": {
    "name": "ipython",
    "version": 3
   },
   "file_extension": ".py",
   "mimetype": "text/x-python",
   "name": "python",
   "nbconvert_exporter": "python",
   "pygments_lexer": "ipython3",
   "version": "3.9.16"
  }
 },
 "nbformat": 4,
 "nbformat_minor": 4
}
